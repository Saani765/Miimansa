{
 "cells": [
  {
   "cell_type": "code",
   "execution_count": 1,
   "metadata": {},
   "outputs": [],
   "source": [
    "\n",
    "import os\n",
    "from collections import defaultdict"
   ]
  },
  {
   "cell_type": "code",
   "execution_count": 2,
   "metadata": {},
   "outputs": [],
   "source": [
    "def read_ann_file_all_as_adr(filepath):\n",
    "    \"\"\"\n",
    "    Reads a .ann file and parses all entities as ADRs into a list of tuples.\n",
    "    Each tuple contains: (label, start, end, text), where label is always 'ADR'.\n",
    "    Args:\n",
    "        filepath (str): Path to the .ann file.\n",
    "    Returns:\n",
    "        list of tuples: (label, start, end, text) for all entities, label set to 'ADR'\n",
    "    \"\"\"\n",
    "    entities = []\n",
    "    with open(filepath, 'r', encoding='utf-8') as file:\n",
    "        for line in file:\n",
    "            line = line.strip()\n",
    "            if not line or line.startswith('#'):\n",
    "                continue  # Skip comments and empty lines\n",
    "            parts = line.split('\\t')\n",
    "            if len(parts) < 3:\n",
    "                continue  # Skip malformed lines\n",
    "            label_ranges = parts[1]\n",
    "            entity_text = parts[2]\n",
    "            label_parts = label_ranges.split(' ')\n",
    "            # Ignore the original label/code, treat all as 'ADR'\n",
    "            try:\n",
    "                start = int(label_parts[1])\n",
    "                end = int(label_parts[2])\n",
    "            except (IndexError, ValueError):\n",
    "                continue  # Skip if indices are not valid\n",
    "            entities.append(('ADR', start, end, entity_text))\n",
    "    return entities"
   ]
  },
  {
   "cell_type": "code",
   "execution_count": 3,
   "metadata": {},
   "outputs": [],
   "source": [
    "def read_ann_file_adr_only(filepath):\n",
    "    \"\"\"\n",
    "    Reads a .ann file and parses only 'ADR' entities into a list of tuples.\n",
    "    Each tuple contains: (label, start, end, text)\n",
    "    Args:\n",
    "        filepath (str): Path to the .ann file.\n",
    "    Returns:\n",
    "        list of tuples: (label, start, end, text) for ADR only\n",
    "    \"\"\"\n",
    "    entities = []\n",
    "    with open(filepath, 'r', encoding='utf-8') as file:\n",
    "        for line in file:\n",
    "            line = line.strip()\n",
    "            if not line or line.startswith('#'):\n",
    "                continue  # Skip comments and empty lines\n",
    "            parts = line.split('\\t')\n",
    "            if len(parts) < 3:\n",
    "                continue  # Skip malformed lines\n",
    "            label_ranges = parts[1]\n",
    "            entity_text = parts[2]\n",
    "            label_parts = label_ranges.split(' ')\n",
    "            label = label_parts[0]\n",
    "            if label != 'ADR':\n",
    "                continue  # Only keep ADR entities\n",
    "            try:\n",
    "                start = int(label_parts[1])\n",
    "                end = int(label_parts[2])\n",
    "            except (IndexError, ValueError):\n",
    "                continue  # Skip if indices are not valid\n",
    "            entities.append((label, start, end, entity_text))\n",
    "    return entities"
   ]
  },
  {
   "cell_type": "code",
   "execution_count": 4,
   "metadata": {},
   "outputs": [],
   "source": [
    "def compare_entities(pred_entities, gt_entities):\n",
    "    pred_set = set(pred_entities)\n",
    "    gt_set = set(gt_entities)\n",
    "    true_positives = pred_set & gt_set\n",
    "    false_positives = pred_set - gt_set\n",
    "    false_negatives = gt_set - pred_set\n",
    "    return true_positives, false_positives, false_negatives"
   ]
  },
  {
   "cell_type": "code",
   "execution_count": 5,
   "metadata": {},
   "outputs": [],
   "source": [
    "\n",
    "def compute_metrics(tp, fp, fn):\n",
    "    precision = len(tp) / (len(tp) + len(fp)) if (len(tp) + len(fp)) > 0 else 0.0\n",
    "    recall = len(tp) / (len(tp) + len(fn)) if (len(tp) + len(fn)) > 0 else 0.0\n",
    "    f1 = 2 * precision * recall / (precision + recall) if (precision + recall) > 0 else 0.0\n",
    "    return {\"precision\": precision, \"recall\": recall, \"f1\": f1}"
   ]
  },
  {
   "cell_type": "code",
   "execution_count": 6,
   "metadata": {},
   "outputs": [
    {
     "name": "stdout",
     "output_type": "stream",
     "text": [
      "--- Ground Truth ADR Entities (meddra, all treated as ADR) ---\n",
      "('ADR', 9, 19, 'bit drowsy')\n",
      "('ADR', 29, 50, 'little blurred vision')\n",
      "('ADR', 62, 78, 'gastric problems')\n",
      "('ADR', 437, 453, 'feel a bit weird')\n",
      "\n",
      "--- Predicted ADR Entities (only ADR label) ---\n",
      "('ADR', 93, 96, 'Art')\n",
      "('ADR', 460, 471, 't have that')\n",
      "\n",
      "--- Evaluation Metrics (ADR only, all meddra entities) ---\n",
      "Precision: 0.00\n",
      "Recall:    0.00\n",
      "F1-score:  0.00\n"
     ]
    }
   ],
   "source": [
    "if __name__ == \"__main__\":\n",
    "    # Example: Evaluate predictions for a single file (ground truth: all meddra entities as ADR, predictions: only ADR)\n",
    "    pred_ann_file = \"predicted.ann\"  # Placeholder for predicted .ann file\n",
    "    gt_ann_file = os.path.join(\"cadec\", \"meddra\", \"ARTHROTEC.1.ann\")  # Example ground truth file\n",
    "    print(\"--- Ground Truth ADR Entities (meddra, all treated as ADR) ---\")\n",
    "    gt_entities = read_ann_file_all_as_adr(gt_ann_file)\n",
    "    for ent in gt_entities:\n",
    "        print(ent)\n",
    "    print(\"\\n--- Predicted ADR Entities (only ADR label) ---\")\n",
    "    if os.path.exists(pred_ann_file):\n",
    "        pred_entities = read_ann_file_adr_only(pred_ann_file)\n",
    "        for ent in pred_entities:\n",
    "            print(ent)\n",
    "    else:\n",
    "        pred_entities = []\n",
    "        print(\"No predicted.ann file found. Please generate predictions from step 2.\")\n",
    "    tp, fp, fn = compare_entities(pred_entities, gt_entities)\n",
    "    metrics = compute_metrics(tp, fp, fn)\n",
    "    print(\"\\n--- Evaluation Metrics (ADR only, all meddra entities) ---\")\n",
    "    print(f\"Precision: {metrics['precision']:.2f}\")\n",
    "    print(f\"Recall:    {metrics['recall']:.2f}\")\n",
    "    print(f\"F1-score:  {metrics['f1']:.2f}\")"
   ]
  }
 ],
 "metadata": {
  "kernelspec": {
   "display_name": "Python 3",
   "language": "python",
   "name": "python3"
  },
  "language_info": {
   "codemirror_mode": {
    "name": "ipython",
    "version": 3
   },
   "file_extension": ".py",
   "mimetype": "text/x-python",
   "name": "python",
   "nbconvert_exporter": "python",
   "pygments_lexer": "ipython3",
   "version": "3.10.12"
  }
 },
 "nbformat": 4,
 "nbformat_minor": 2
}

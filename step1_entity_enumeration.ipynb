{
 "cells": [
  {
   "cell_type": "code",
   "execution_count": 7,
   "metadata": {},
   "outputs": [],
   "source": [
    "import os\n",
    "from collections import defaultdict\n",
    "from transformers import AutoTokenizer, AutoModelForTokenClassification, pipeline\n"
   ]
  },
  {
   "cell_type": "code",
   "execution_count": 8,
   "metadata": {},
   "outputs": [
    {
     "name": "stdout",
     "output_type": "stream",
     "text": [
      "Label: ADR\n",
      "Total unique entities: 3681\n",
      "Example entities: ['put weight on suddenly for no reason', 'tiredness', 'frequent urination', 'DIZZINESS', 'dizzy', 'horrible fatigue', 'Poor concentration', 'Severe muscle pain in shoulders', 'mental fogginess', 'pain/cramps in both my legs']\n",
      "----------------------------------------\n",
      "Label: Drug\n",
      "Total unique entities: 391\n",
      "Example entities: ['mypaid forte', 'COQ10', 'corti-cortisones', 'Vitamins A', 'steroid nasal sprays', 'Mevacore', 'cortozone injections', 'ibuprofen', 'vitimin c', 'Totalip']\n",
      "----------------------------------------\n",
      "Label: Disease\n",
      "Total unique entities: 181\n",
      "Example entities: ['post traumaic osteoarthritis', 'restless leg syndrome', 'torn maniscus', 'MND', 'IBS', 'severe arthritis', 'cholesterol climbed', 'Spleen Cancer', 'acute shoulder tendonitis', 'PAD']\n",
      "----------------------------------------\n",
      "Label: Symptom\n",
      "Total unique entities: 150\n",
      "Example entities: ['sore knee', 'pains through my hips', 'extreme muscle discomfort', 'knee inflammation', 'slight linear tear', \"the heel I couldn't walk on very well\", 'anxiety', 'I had trouble standing up from sitting position', 'high CPK level', 'breathlessness']\n",
      "----------------------------------------\n"
     ]
    }
   ],
   "source": [
    "directory = 'cadec/original'\n",
    "\n",
    "# Dictionary to store unique entities for each label\n",
    "distinct_entities = defaultdict(set)\n",
    "\n",
    "# Iterate through all annotation files in the directory\n",
    "for filename in os.listdir(directory):\n",
    "    if not filename.endswith('.ann'):\n",
    "        continue\n",
    "    filepath = os.path.join(directory, filename)\n",
    "    with open(filepath, 'r', encoding='utf-8') as file:\n",
    "        for line in file:\n",
    "            line = line.strip()\n",
    "            if not line or line.startswith('#'):\n",
    "                continue  # Skip comments and empty lines\n",
    "            parts = line.split('\\t')\n",
    "            if len(parts) < 3:\n",
    "                continue  # Skip malformed lines\n",
    "            tag, label_ranges, entity_text = parts[0], parts[1], parts[2]\n",
    "            label = label_ranges.split(' ')[0]  # Label is the first word in the second column\n",
    "            distinct_entities[label].add(entity_text)\n",
    "\n",
    "# Print the results\n",
    "for label in ['ADR', 'Drug', 'Disease', 'Symptom']:\n",
    "    entities = distinct_entities[label]\n",
    "    print(f'Label: {label}')\n",
    "    print(f'Total unique entities: {len(entities)}')\n",
    "    print(f'Example entities: {list(entities)[:10]}')\n",
    "    print('-' * 40) "
   ]
  },
  {
   "cell_type": "code",
   "execution_count": null,
   "metadata": {},
   "outputs": [],
   "source": []
  }
 ],
 "metadata": {
  "kernelspec": {
   "display_name": "Python 3",
   "language": "python",
   "name": "python3"
  },
  "language_info": {
   "codemirror_mode": {
    "name": "ipython",
    "version": 3
   },
   "file_extension": ".py",
   "mimetype": "text/x-python",
   "name": "python",
   "nbconvert_exporter": "python",
   "pygments_lexer": "ipython3",
   "version": "3.10.12"
  }
 },
 "nbformat": 4,
 "nbformat_minor": 2
}
